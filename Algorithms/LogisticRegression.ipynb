{
 "cells": [
  {
   "cell_type": "markdown",
   "metadata": {},
   "source": [
    "<h1>Logistic Regression</h1>\n",
    "<p>by: Afonso Proenca</p>"
   ]
  },
  {
   "cell_type": "markdown",
   "metadata": {},
   "source": [
    "<p>Import Libraries</p>"
   ]
  },
  {
   "cell_type": "code",
   "execution_count": 1,
   "metadata": {},
   "outputs": [],
   "source": [
    "import matplotlib.pyplot as plt\n",
    "import numpy as np"
   ]
  },
  {
   "cell_type": "markdown",
   "metadata": {},
   "source": [
    "<p>Define Functions</p>"
   ]
  },
  {
   "cell_type": "code",
   "execution_count": 2,
   "metadata": {},
   "outputs": [],
   "source": [
    "def sigmoid(sig):\n",
    "    sigmoid = 1/(1+np.exp(-sig));\n",
    "    return sigmoid"
   ]
  },
  {
   "cell_type": "code",
   "execution_count": 3,
   "metadata": {},
   "outputs": [],
   "source": [
    "def cost(X,y,t,m):\n",
    "    cost = (1/m) * np.sum((-y*np.log(hypothesis(X.T,t,X[0].size+1))) - ((1-y)*np.log(1-hypothesis(X.T,t,X[0].size+1))))\n",
    "    return cost"
   ]
  },
  {
   "cell_type": "code",
   "execution_count": 4,
   "metadata": {},
   "outputs": [],
   "source": [
    "def hypothesis(X,t,n):\n",
    "    hypothesis = 0\n",
    "    for i in range(n):\n",
    "        hypothesis += t[i]*pow(X,i)\n",
    "    hypothesis = sigmoid(hypothesis)\n",
    "    return hypothesis"
   ]
  },
  {
   "cell_type": "code",
   "execution_count": 5,
   "metadata": {},
   "outputs": [],
   "source": [
    "def threshold(inThresh,thresh):\n",
    "    return inThresh >= thresh"
   ]
  },
  {
   "cell_type": "code",
   "execution_count": 6,
   "metadata": {},
   "outputs": [],
   "source": [
    "def fit(X,y,lr):\n",
    "    t = np.random.rand(X[0].size+1)\n",
    "    m = len(y)\n",
    "    for i in range(10000):\n",
    "        v = np.zeros(X[0].size+1)\n",
    "        for j in range(X[0].size+1):\n",
    "            v[j] = t[j]-((lr/m)*np.sum((hypothesis(X.T,t,X[0].size+1)-y)*pow(X.T,j)))\n",
    "            t[j] = v[j]\n",
    "        loss = cost(X,y,t,m)\n",
    "        if loss < 0.5:\n",
    "            return t\n",
    "            break\n",
    "        if(i == 1000):\n",
    "            return t\n",
    "            break"
   ]
  },
  {
   "cell_type": "code",
   "execution_count": 7,
   "metadata": {},
   "outputs": [],
   "source": [
    "def predict(X,t):\n",
    "    y_pred = hypothesis(X,t,X[0].size+1).T;\n",
    "    y_pred = threshold(y_pred,0.5)\n",
    "    y_pred = 1*y_pred\n",
    "    return y_pred[0]"
   ]
  },
  {
   "cell_type": "code",
   "execution_count": 8,
   "metadata": {},
   "outputs": [],
   "source": [
    "def myConfMat(y_test,y_pred):\n",
    "    ConfMat= np.zeros([max(y_test)+1,max(y_test)+1])\n",
    "    for i in range(len(y_test)):\n",
    "        ConfMat[y_test[i]][y_pred[i]] += 1;\n",
    "    return ConfMat    "
   ]
  },
  {
   "cell_type": "code",
   "execution_count": 9,
   "metadata": {},
   "outputs": [],
   "source": [
    "def myPrecision(y_test,y_pred):\n",
    "    classes = np.unique(y_pred)\n",
    "    matrix = myConfMat(y_test,y_pred)\n",
    "    precision = np.zeros([len(classes)])\n",
    "    for i in range(len(classes)):\n",
    "        precision[i] = matrix[i][i] / (sum(matrix.T[i]))\n",
    "    return precision"
   ]
  },
  {
   "cell_type": "code",
   "execution_count": 10,
   "metadata": {},
   "outputs": [],
   "source": [
    "def myRecall(y_test,y_pred):\n",
    "    classes = np.unique(y_pred)\n",
    "    matrix = myConfMat(y_test,y_pred)\n",
    "    recall = np.zeros([len(classes)])\n",
    "    for i in range(len(classes)):\n",
    "        recall[i] = matrix[i][i] / (sum(matrix[i]))\n",
    "    return recall"
   ]
  },
  {
   "cell_type": "markdown",
   "metadata": {},
   "source": [
    "<p>Define Variables</p>"
   ]
  },
  {
   "cell_type": "code",
   "execution_count": 11,
   "metadata": {},
   "outputs": [],
   "source": [
    "X = np.asarray ([[0.50], [0.75], [1.00], [1.25], [1.50], [1.75],\n",
    "[3.00], [4.75], [1.75], [3.25], [5.00], [2.00], [2.25], [2.50],\n",
    "[2.75], [3.50], [4.00], [4.25], [4.50], [5.50]])\n",
    "y = np.asarray([0,0,0,0,0,0,1,0,1,0,1,0,1,0,1,1,1,1,1,1])\n",
    "n = X[0].size+1\n",
    "lr = 0.1\n",
    "nFolds = 5;"
   ]
  },
  {
   "cell_type": "markdown",
   "metadata": {},
   "source": [
    "<p>Choose the best dataset bin</p>"
   ]
  },
  {
   "cell_type": "code",
   "execution_count": 12,
   "metadata": {},
   "outputs": [
    {
     "name": "stdout",
     "output_type": "stream",
     "text": [
      "Fold 1 Train 16 Test 4\n",
      "Fold 2 Train 16 Test 4\n",
      "Fold 3 Train 16 Test 4\n",
      "Fold 4 Train 16 Test 4\n",
      "Fold 5 Train 16 Test 4\n"
     ]
    }
   ],
   "source": [
    "y_pred = np.zeros([len(y)])\n",
    "accuracy_fold=[]\n",
    "bestAccuracy = -1\n",
    "bestModel = np.zeros(X[0].size+1)\n",
    "indices=np.random.permutation(y.size)\n",
    "bins= np.array_split(indices,nFolds)\n",
    "for i in range(0,nFolds):\n",
    "    foldTest=[]\n",
    "    foldTrain=[]\n",
    "    foldTest.extend(bins[i])\n",
    "    if (i+1)%nFolds == 0:\n",
    "        foldTrain.extend(bins[((i+1)%nFolds):i])\n",
    "    else:\n",
    "        foldTrain.extend(bins[:i] + bins[((i+1)%nFolds):])\n",
    "    foldTrain = [y for x in foldTrain for y in x]        \n",
    "    print('Fold',i+1,'Train', len(foldTrain),'Test',len(foldTest))\n",
    "    model = fit(X[foldTrain],y[foldTrain],lr)\n",
    "    y_pred = predict(X[foldTest],model)\n",
    "    accuracy = np.where(y[foldTest]==y_pred)[0].size/y[foldTest].size\n",
    "    accuracy_fold.append(accuracy)\n",
    "    if accuracy > bestAccuracy:\n",
    "        bestModel = model"
   ]
  },
  {
   "cell_type": "markdown",
   "metadata": {},
   "source": [
    "<p>Make Prediction</p>"
   ]
  },
  {
   "cell_type": "code",
   "execution_count": 13,
   "metadata": {},
   "outputs": [],
   "source": [
    "y_pred = predict(X,bestModel)\n",
    "accuracy = np.where(y==y_pred)[0].size/y.size\n",
    "confMat = myConfMat(y,y_pred)"
   ]
  },
  {
   "cell_type": "markdown",
   "metadata": {},
   "source": [
    "<p>Plot Prediction</p>"
   ]
  },
  {
   "cell_type": "code",
   "execution_count": 14,
   "metadata": {},
   "outputs": [
    {
     "name": "stdout",
     "output_type": "stream",
     "text": [
      "Accuracy/Fold: [0.5, 0.75, 1.0, 0.5, 1.0]\n",
      "Best Model (Theta): [-2.15255743  0.79525873]\n",
      "Predicted: [0 0 0 0 0 0 1 1 0 1 1 0 0 0 1 1 1 1 1 1]\n",
      "Solution:  [0 0 0 0 0 0 1 0 1 0 1 0 1 0 1 1 1 1 1 1]\n"
     ]
    },
    {
     "data": {
      "image/png": "[encoded data removed]",
      "text/plain": [
       "<Figure size 432x288 with 1 Axes>"
      ]
     },
     "metadata": {
      "needs_background": "light"
     },
     "output_type": "display_data"
    },
    {
     "name": "stdout",
     "output_type": "stream",
     "text": [
      "Accuracy:  0.8\n",
      "Class: 0 Precision: 0.8 Recall: 0.8\n",
      "Class: 1 Precision: 0.8 Recall: 0.8\n",
      "Confusion Matrix:\n",
      "[[8. 2.]\n",
      " [2. 8.]]\n"
     ]
    }
   ],
   "source": [
    "x_ = []\n",
    "y_ = []\n",
    "for i in range(1750):\n",
    "    _x = (i/100)\n",
    "    x_.append(_x)\n",
    "    _y = hypothesis(_x,bestModel,n)\n",
    "    y_.append(_y)\n",
    "plt.plot(x_,y_,\"y\")\n",
    "\n",
    "print(\"Accuracy/Fold:\",accuracy_fold)\n",
    "print(\"Best Model (Theta):\",bestModel)\n",
    "print(\"Predicted:\",y_pred)\n",
    "print(\"Solution: \",y)\n",
    "plt.plot(y-0.1,'g*')\n",
    "plt.plot(y_pred,'b.')\n",
    "plt.show()\n",
    "print(\"Accuracy: \",accuracy)\n",
    "for i in np.unique(y):\n",
    "    print('Class:',i,\"Precision:\",myPrecision(y,y_pred)[i],\"Recall:\",myRecall(y,y_pred)[i])   \n",
    "print(\"Confusion Matrix:\")\n",
    "print(myConfMat(y,y_pred))"
   ]
  }
 ],
 "metadata": {
  "kernelspec": {
   "display_name": "Python 3",
   "language": "python",
   "name": "python3"
  },
  "language_info": {
   "codemirror_mode": {
    "name": "ipython",
    "version": 3
   },
   "file_extension": ".py",
   "mimetype": "text/x-python",
   "name": "python",
   "nbconvert_exporter": "python",
   "pygments_lexer": "ipython3",
   "version": "3.8.5"
  }
 },
 "nbformat": 4,
 "nbformat_minor": 4
}

{
 "cells": [
  {
   "cell_type": "code",
   "execution_count": 1,
   "id": "lesser-violence",
   "metadata": {},
   "outputs": [
    {
     "name": "stdout",
     "output_type": "stream",
     "text": [
      "<module 'tensorflow._api.v2.version' from '/home/esquilo/miniconda3/envs/directml/lib/python3.6/site-packages/tensorflow/_api/v2/version/__init__.py'>\n"
     ]
    }
   ],
   "source": [
    "import tensorflow as tf\n",
    "print(tf.version)"
   ]
  },
  {
   "cell_type": "code",
   "execution_count": 2,
   "id": "imposed-commonwealth",
   "metadata": {},
   "outputs": [
    {
     "name": "stdout",
     "output_type": "stream",
     "text": [
      "<tf.Variable 'Variable:0' shape=(3,) dtype=string, numpy=array([b'Test', b'this', b'is'], dtype=object)>\n",
      "tf.Tensor(1, shape=(), dtype=int32)\n",
      "(3,)\n",
      "\n",
      "<tf.Variable 'Variable:0' shape=(2, 2) dtype=string, numpy=\n",
      "array([[b'Test', b'this'],\n",
      "       [b'is', b'only']], dtype=object)>\n",
      "tf.Tensor(2, shape=(), dtype=int32)\n",
      "(2, 2)\n"
     ]
    }
   ],
   "source": [
    "rank1_tensor = tf.Variable([\"Test\", \"this\", \"is\"],tf.string)\n",
    "rank2_tensor = tf.Variable([[\"Test\",\"this\"],[\"is\",\"only\"]],tf.string)\n",
    "print(rank1_tensor)\n",
    "print(tf.rank(rank1_tensor))\n",
    "print(rank1_tensor.shape)\n",
    "print()\n",
    "print(rank2_tensor)\n",
    "print(tf.rank(rank2_tensor))\n",
    "print(rank2_tensor.shape)"
   ]
  },
  {
   "cell_type": "code",
   "execution_count": 3,
   "id": "tropical-bradford",
   "metadata": {},
   "outputs": [
    {
     "name": "stdout",
     "output_type": "stream",
     "text": [
      "tf.Tensor(\n",
      "[[[1. 1. 1.]\n",
      "  [1. 1. 1.]]], shape=(1, 2, 3), dtype=float32)\n",
      "tf.Tensor(\n",
      "[[[1.]\n",
      "  [1.]\n",
      "  [1.]]\n",
      "\n",
      " [[1.]\n",
      "  [1.]\n",
      "  [1.]]], shape=(2, 3, 1), dtype=float32)\n",
      "tf.Tensor(\n",
      "[[1. 1.]\n",
      " [1. 1.]\n",
      " [1. 1.]], shape=(3, 2), dtype=float32)\n"
     ]
    }
   ],
   "source": [
    "tensor1 = tf.ones([1,2,3])\n",
    "tensor2 = tf.reshape(tensor1, [2,3,1])\n",
    "tensor3 = tf.reshape(tensor1, [3, -1])\n",
    "print(tensor1)\n",
    "print(tensor2)\n",
    "print(tensor3)"
   ]
  },
  {
   "cell_type": "code",
   "execution_count": 5,
   "id": "front-champion",
   "metadata": {},
   "outputs": [
    {
     "name": "stdout",
     "output_type": "stream",
     "text": [
      "<bound method _EagerTensorBase.eval of <tf.Tensor: shape=(1, 2, 3), dtype=float32, numpy=\n",
      "array([[[1., 1., 1.],\n",
      "        [1., 1., 1.]]], dtype=float32)>>\n",
      "<bound method _EagerTensorBase.eval of <tf.Tensor: shape=(2, 3, 1), dtype=float32, numpy=\n",
      "array([[[1.],\n",
      "        [1.],\n",
      "        [1.]],\n",
      "\n",
      "       [[1.],\n",
      "        [1.],\n",
      "        [1.]]], dtype=float32)>>\n",
      "<bound method _EagerTensorBase.eval of <tf.Tensor: shape=(3, 2), dtype=float32, numpy=\n",
      "array([[1., 1.],\n",
      "       [1., 1.],\n",
      "       [1., 1.]], dtype=float32)>>\n"
     ]
    }
   ],
   "source": [
    "print(tensor1.eval)\n",
    "print(tensor2.eval)\n",
    "print(tensor3.eval)"
   ]
  }
 ],
 "metadata": {
  "kernelspec": {
   "display_name": "Python 3",
   "language": "python",
   "name": "python3"
  },
  "language_info": {
   "codemirror_mode": {
    "name": "ipython",
    "version": 3
   },
   "file_extension": ".py",
   "mimetype": "text/x-python",
   "name": "python",
   "nbconvert_exporter": "python",
   "pygments_lexer": "ipython3",
   "version": "3.6.13"
  }
 },
 "nbformat": 4,
 "nbformat_minor": 5
}

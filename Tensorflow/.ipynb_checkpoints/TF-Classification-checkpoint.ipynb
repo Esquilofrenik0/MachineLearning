{
 "cells": [
  {
   "cell_type": "code",
   "execution_count": 14,
   "id": "reported-meeting",
   "metadata": {},
   "outputs": [],
   "source": [
    "import tensorflow as tf\n",
    "import pandas as pd\n",
    "from IPython.display import clear_output"
   ]
  },
  {
   "cell_type": "code",
   "execution_count": 15,
   "id": "animated-leone",
   "metadata": {},
   "outputs": [],
   "source": [
    "# Define constants\n",
    "CSV_COLUMN_NAMES = ['SepalLength', 'SepalWidth', 'PetalLength', 'PetalWidth', 'Species']\n",
    "SPECIES = ['Setosa', 'Versicolor', 'Virginica']"
   ]
  },
  {
   "cell_type": "code",
   "execution_count": 16,
   "id": "sound-traffic",
   "metadata": {},
   "outputs": [],
   "source": [
    "# Grab keras datasets and upload them into a pandas dataframe\n",
    "train_path = tf.keras.utils.get_file('iris_training.csv', 'https://storage.googleapis.com/download.tensorflow.org/data/iris_training.csv')\n",
    "test_path = tf.keras.utils.get_file('iris_training.csv', 'https://storage.googleapis.com/download.tensorflow.org/data/iris_test.csv')\n",
    "train = pd.read_csv(train_path, names=CSV_COLUMN_NAMES, header=0)\n",
    "test = pd.read_csv(test_path, names=CSV_COLUMN_NAMES, header=0)"
   ]
  },
  {
   "cell_type": "code",
   "execution_count": 17,
   "id": "civic-train",
   "metadata": {},
   "outputs": [
    {
     "data": {
      "text/html": [
       "<div>\n",
       "<style scoped>\n",
       "    .dataframe tbody tr th:only-of-type {\n",
       "        vertical-align: middle;\n",
       "    }\n",
       "\n",
       "    .dataframe tbody tr th {\n",
       "        vertical-align: top;\n",
       "    }\n",
       "\n",
       "    .dataframe thead th {\n",
       "        text-align: right;\n",
       "    }\n",
       "</style>\n",
       "<table border=\"1\" class=\"dataframe\">\n",
       "  <thead>\n",
       "    <tr style=\"text-align: right;\">\n",
       "      <th></th>\n",
       "      <th>SepalLength</th>\n",
       "      <th>SepalWidth</th>\n",
       "      <th>PetalLength</th>\n",
       "      <th>PetalWidth</th>\n",
       "      <th>Species</th>\n",
       "    </tr>\n",
       "  </thead>\n",
       "  <tbody>\n",
       "    <tr>\n",
       "      <th>0</th>\n",
       "      <td>6.4</td>\n",
       "      <td>2.8</td>\n",
       "      <td>5.6</td>\n",
       "      <td>2.2</td>\n",
       "      <td>2</td>\n",
       "    </tr>\n",
       "    <tr>\n",
       "      <th>1</th>\n",
       "      <td>5.0</td>\n",
       "      <td>2.3</td>\n",
       "      <td>3.3</td>\n",
       "      <td>1.0</td>\n",
       "      <td>1</td>\n",
       "    </tr>\n",
       "    <tr>\n",
       "      <th>2</th>\n",
       "      <td>4.9</td>\n",
       "      <td>2.5</td>\n",
       "      <td>4.5</td>\n",
       "      <td>1.7</td>\n",
       "      <td>2</td>\n",
       "    </tr>\n",
       "    <tr>\n",
       "      <th>3</th>\n",
       "      <td>4.9</td>\n",
       "      <td>3.1</td>\n",
       "      <td>1.5</td>\n",
       "      <td>0.1</td>\n",
       "      <td>0</td>\n",
       "    </tr>\n",
       "    <tr>\n",
       "      <th>4</th>\n",
       "      <td>5.7</td>\n",
       "      <td>3.8</td>\n",
       "      <td>1.7</td>\n",
       "      <td>0.3</td>\n",
       "      <td>0</td>\n",
       "    </tr>\n",
       "  </tbody>\n",
       "</table>\n",
       "</div>"
      ],
      "text/plain": [
       "   SepalLength  SepalWidth  PetalLength  PetalWidth  Species\n",
       "0          6.4         2.8          5.6         2.2        2\n",
       "1          5.0         2.3          3.3         1.0        1\n",
       "2          4.9         2.5          4.5         1.7        2\n",
       "3          4.9         3.1          1.5         0.1        0\n",
       "4          5.7         3.8          1.7         0.3        0"
      ]
     },
     "execution_count": 17,
     "metadata": {},
     "output_type": "execute_result"
    }
   ],
   "source": [
    "train.head()"
   ]
  },
  {
   "cell_type": "code",
   "execution_count": 18,
   "id": "indie-contrary",
   "metadata": {},
   "outputs": [
    {
     "data": {
      "text/html": [
       "<div>\n",
       "<style scoped>\n",
       "    .dataframe tbody tr th:only-of-type {\n",
       "        vertical-align: middle;\n",
       "    }\n",
       "\n",
       "    .dataframe tbody tr th {\n",
       "        vertical-align: top;\n",
       "    }\n",
       "\n",
       "    .dataframe thead th {\n",
       "        text-align: right;\n",
       "    }\n",
       "</style>\n",
       "<table border=\"1\" class=\"dataframe\">\n",
       "  <thead>\n",
       "    <tr style=\"text-align: right;\">\n",
       "      <th></th>\n",
       "      <th>SepalLength</th>\n",
       "      <th>SepalWidth</th>\n",
       "      <th>PetalLength</th>\n",
       "      <th>PetalWidth</th>\n",
       "    </tr>\n",
       "  </thead>\n",
       "  <tbody>\n",
       "    <tr>\n",
       "      <th>0</th>\n",
       "      <td>6.4</td>\n",
       "      <td>2.8</td>\n",
       "      <td>5.6</td>\n",
       "      <td>2.2</td>\n",
       "    </tr>\n",
       "    <tr>\n",
       "      <th>1</th>\n",
       "      <td>5.0</td>\n",
       "      <td>2.3</td>\n",
       "      <td>3.3</td>\n",
       "      <td>1.0</td>\n",
       "    </tr>\n",
       "    <tr>\n",
       "      <th>2</th>\n",
       "      <td>4.9</td>\n",
       "      <td>2.5</td>\n",
       "      <td>4.5</td>\n",
       "      <td>1.7</td>\n",
       "    </tr>\n",
       "    <tr>\n",
       "      <th>3</th>\n",
       "      <td>4.9</td>\n",
       "      <td>3.1</td>\n",
       "      <td>1.5</td>\n",
       "      <td>0.1</td>\n",
       "    </tr>\n",
       "    <tr>\n",
       "      <th>4</th>\n",
       "      <td>5.7</td>\n",
       "      <td>3.8</td>\n",
       "      <td>1.7</td>\n",
       "      <td>0.3</td>\n",
       "    </tr>\n",
       "  </tbody>\n",
       "</table>\n",
       "</div>"
      ],
      "text/plain": [
       "   SepalLength  SepalWidth  PetalLength  PetalWidth\n",
       "0          6.4         2.8          5.6         2.2\n",
       "1          5.0         2.3          3.3         1.0\n",
       "2          4.9         2.5          4.5         1.7\n",
       "3          4.9         3.1          1.5         0.1\n",
       "4          5.7         3.8          1.7         0.3"
      ]
     },
     "execution_count": 18,
     "metadata": {},
     "output_type": "execute_result"
    }
   ],
   "source": [
    "train_y = train.pop('Species')\n",
    "test_y = test.pop('Species')\n",
    "train.head()"
   ]
  },
  {
   "cell_type": "code",
   "execution_count": 19,
   "id": "trying-imagination",
   "metadata": {},
   "outputs": [
    {
     "data": {
      "text/plain": [
       "(120, 4)"
      ]
     },
     "execution_count": 19,
     "metadata": {},
     "output_type": "execute_result"
    }
   ],
   "source": [
    "train.shape"
   ]
  },
  {
   "cell_type": "code",
   "execution_count": 20,
   "id": "heated-dispatch",
   "metadata": {},
   "outputs": [],
   "source": [
    "def input_fn(features, labels, training=True, batch_size=256):\n",
    "    # Convert inputs into a dataset\n",
    "    dataset = tf.data.Dataset.from_tensor_slices((dict(features), labels))\n",
    "    # Shuffle and repeat if you are in training mode\n",
    "    if training:\n",
    "        dataset = dataset.shuffle(1000).repeat()\n",
    "    return dataset.batch(batch_size)"
   ]
  },
  {
   "cell_type": "code",
   "execution_count": 21,
   "id": "compact-rendering",
   "metadata": {},
   "outputs": [
    {
     "name": "stdout",
     "output_type": "stream",
     "text": [
      "[NumericColumn(key='SepalLength', shape=(1,), default_value=None, dtype=tf.float32, normalizer_fn=None), NumericColumn(key='SepalWidth', shape=(1,), default_value=None, dtype=tf.float32, normalizer_fn=None), NumericColumn(key='PetalLength', shape=(1,), default_value=None, dtype=tf.float32, normalizer_fn=None), NumericColumn(key='PetalWidth', shape=(1,), default_value=None, dtype=tf.float32, normalizer_fn=None)]\n"
     ]
    }
   ],
   "source": [
    "my_feature_columns = []\n",
    "for key in train.keys():\n",
    "    my_feature_columns.append(tf.feature_column.numeric_column(key=key))\n",
    "print(my_feature_columns)"
   ]
  },
  {
   "cell_type": "code",
   "execution_count": 22,
   "id": "electoral-affect",
   "metadata": {},
   "outputs": [
    {
     "name": "stdout",
     "output_type": "stream",
     "text": [
      "INFO:tensorflow:Using default config.\n",
      "WARNING:tensorflow:Using temporary folder as model directory: /tmp/tmpkdo3cmat\n",
      "INFO:tensorflow:Using config: {'_model_dir': '/tmp/tmpkdo3cmat', '_tf_random_seed': None, '_save_summary_steps': 100, '_save_checkpoints_steps': None, '_save_checkpoints_secs': 600, '_session_config': allow_soft_placement: true\n",
      "graph_options {\n",
      "  rewrite_options {\n",
      "    meta_optimizer_iterations: ONE\n",
      "  }\n",
      "}\n",
      ", '_keep_checkpoint_max': 5, '_keep_checkpoint_every_n_hours': 10000, '_log_step_count_steps': 100, '_train_distribute': None, '_device_fn': None, '_protocol': None, '_eval_distribute': None, '_experimental_distribute': None, '_experimental_max_worker_delay_secs': None, '_session_creation_timeout_secs': 7200, '_checkpoint_save_graph_def': True, '_service': None, '_cluster_spec': ClusterSpec({}), '_task_type': 'worker', '_task_id': 0, '_global_id_in_cluster': 0, '_master': '', '_evaluation_master': '', '_is_chief': True, '_num_ps_replicas': 0, '_num_worker_replicas': 1}\n"
     ]
    }
   ],
   "source": [
    "# Build a Deep Neural Network Classifier with 2 hidden layers with 30 and 10 hidden nodes each.\n",
    "classifier = tf.estimator.DNNClassifier(\n",
    "    feature_columns=my_feature_columns,\n",
    "    # Two hidden layers of 30 and 10 nodes repectively.\n",
    "    hidden_units=[30,10],\n",
    "    # The model must choose between 3 classes.\n",
    "    n_classes=3)"
   ]
  },
  {
   "cell_type": "code",
   "execution_count": 23,
   "id": "stupid-pound",
   "metadata": {
    "scrolled": true
   },
   "outputs": [
    {
     "name": "stdout",
     "output_type": "stream",
     "text": [
      "INFO:tensorflow:Calling model_fn.\n",
      "INFO:tensorflow:Done calling model_fn.\n",
      "INFO:tensorflow:Create CheckpointSaverHook.\n",
      "INFO:tensorflow:Graph was finalized.\n",
      "INFO:tensorflow:Running local_init_op.\n",
      "INFO:tensorflow:Done running local_init_op.\n",
      "INFO:tensorflow:Calling checkpoint listeners before saving checkpoint 0...\n",
      "INFO:tensorflow:Saving checkpoints for 0 into /tmp/tmpkdo3cmat/model.ckpt.\n",
      "INFO:tensorflow:Calling checkpoint listeners after saving checkpoint 0...\n",
      "INFO:tensorflow:loss = 1.3413892, step = 0\n",
      "INFO:tensorflow:global_step/sec: 398.31\n",
      "INFO:tensorflow:loss = 0.8658946, step = 100 (0.252 sec)\n",
      "INFO:tensorflow:global_step/sec: 465.024\n",
      "INFO:tensorflow:loss = 0.786017, step = 200 (0.215 sec)\n",
      "INFO:tensorflow:global_step/sec: 440.113\n",
      "INFO:tensorflow:loss = 0.7511648, step = 300 (0.229 sec)\n",
      "INFO:tensorflow:global_step/sec: 436.292\n",
      "INFO:tensorflow:loss = 0.72439736, step = 400 (0.228 sec)\n",
      "INFO:tensorflow:global_step/sec: 453.308\n",
      "INFO:tensorflow:loss = 0.7134905, step = 500 (0.222 sec)\n",
      "INFO:tensorflow:global_step/sec: 463.272\n",
      "INFO:tensorflow:loss = 0.6934191, step = 600 (0.215 sec)\n",
      "INFO:tensorflow:global_step/sec: 476.667\n",
      "INFO:tensorflow:loss = 0.67909896, step = 700 (0.210 sec)\n",
      "INFO:tensorflow:global_step/sec: 488.392\n",
      "INFO:tensorflow:loss = 0.6571579, step = 800 (0.204 sec)\n",
      "INFO:tensorflow:global_step/sec: 490.67\n",
      "INFO:tensorflow:loss = 0.64641035, step = 900 (0.205 sec)\n",
      "INFO:tensorflow:global_step/sec: 506.06\n",
      "INFO:tensorflow:loss = 0.6407405, step = 1000 (0.197 sec)\n",
      "INFO:tensorflow:global_step/sec: 486.159\n",
      "INFO:tensorflow:loss = 0.6278208, step = 1100 (0.206 sec)\n",
      "INFO:tensorflow:global_step/sec: 477.344\n",
      "INFO:tensorflow:loss = 0.6101582, step = 1200 (0.210 sec)\n",
      "INFO:tensorflow:global_step/sec: 359.995\n",
      "INFO:tensorflow:loss = 0.61280644, step = 1300 (0.277 sec)\n",
      "INFO:tensorflow:global_step/sec: 345.586\n",
      "INFO:tensorflow:loss = 0.604715, step = 1400 (0.290 sec)\n",
      "INFO:tensorflow:global_step/sec: 349.461\n",
      "INFO:tensorflow:loss = 0.5886508, step = 1500 (0.288 sec)\n",
      "INFO:tensorflow:global_step/sec: 361.625\n",
      "INFO:tensorflow:loss = 0.58938, step = 1600 (0.275 sec)\n",
      "INFO:tensorflow:global_step/sec: 452.272\n",
      "INFO:tensorflow:loss = 0.5746259, step = 1700 (0.221 sec)\n",
      "INFO:tensorflow:global_step/sec: 485.215\n",
      "INFO:tensorflow:loss = 0.5542133, step = 1800 (0.206 sec)\n",
      "INFO:tensorflow:global_step/sec: 493.667\n",
      "INFO:tensorflow:loss = 0.54660606, step = 1900 (0.203 sec)\n",
      "INFO:tensorflow:global_step/sec: 511.832\n",
      "INFO:tensorflow:loss = 0.5388174, step = 2000 (0.195 sec)\n",
      "INFO:tensorflow:global_step/sec: 484.378\n",
      "INFO:tensorflow:loss = 0.5328189, step = 2100 (0.207 sec)\n",
      "INFO:tensorflow:global_step/sec: 450.614\n",
      "INFO:tensorflow:loss = 0.5406902, step = 2200 (0.222 sec)\n",
      "INFO:tensorflow:global_step/sec: 459.697\n",
      "INFO:tensorflow:loss = 0.5301096, step = 2300 (0.219 sec)\n",
      "INFO:tensorflow:global_step/sec: 489.689\n",
      "INFO:tensorflow:loss = 0.5141799, step = 2400 (0.204 sec)\n",
      "INFO:tensorflow:global_step/sec: 446.477\n",
      "INFO:tensorflow:loss = 0.5255196, step = 2500 (0.222 sec)\n",
      "INFO:tensorflow:global_step/sec: 500.649\n",
      "INFO:tensorflow:loss = 0.5085702, step = 2600 (0.200 sec)\n",
      "INFO:tensorflow:global_step/sec: 482.864\n",
      "INFO:tensorflow:loss = 0.496689, step = 2700 (0.208 sec)\n",
      "INFO:tensorflow:global_step/sec: 468.693\n",
      "INFO:tensorflow:loss = 0.49501142, step = 2800 (0.214 sec)\n",
      "INFO:tensorflow:global_step/sec: 452.85\n",
      "INFO:tensorflow:loss = 0.49152875, step = 2900 (0.220 sec)\n",
      "INFO:tensorflow:global_step/sec: 362.642\n",
      "INFO:tensorflow:loss = 0.48036966, step = 3000 (0.276 sec)\n",
      "INFO:tensorflow:global_step/sec: 362.838\n",
      "INFO:tensorflow:loss = 0.46599084, step = 3100 (0.276 sec)\n",
      "INFO:tensorflow:global_step/sec: 440.148\n",
      "INFO:tensorflow:loss = 0.46254084, step = 3200 (0.228 sec)\n",
      "INFO:tensorflow:global_step/sec: 451.966\n",
      "INFO:tensorflow:loss = 0.46139133, step = 3300 (0.220 sec)\n",
      "INFO:tensorflow:global_step/sec: 452.476\n",
      "INFO:tensorflow:loss = 0.45866287, step = 3400 (0.221 sec)\n",
      "INFO:tensorflow:global_step/sec: 492.383\n",
      "INFO:tensorflow:loss = 0.46455926, step = 3500 (0.203 sec)\n",
      "INFO:tensorflow:global_step/sec: 485.845\n",
      "INFO:tensorflow:loss = 0.45321685, step = 3600 (0.206 sec)\n",
      "INFO:tensorflow:global_step/sec: 482.905\n",
      "INFO:tensorflow:loss = 0.4531006, step = 3700 (0.207 sec)\n",
      "INFO:tensorflow:global_step/sec: 485.141\n",
      "INFO:tensorflow:loss = 0.4423734, step = 3800 (0.206 sec)\n",
      "INFO:tensorflow:global_step/sec: 454.851\n",
      "INFO:tensorflow:loss = 0.43185014, step = 3900 (0.220 sec)\n",
      "INFO:tensorflow:global_step/sec: 497.475\n",
      "INFO:tensorflow:loss = 0.44898295, step = 4000 (0.201 sec)\n",
      "INFO:tensorflow:global_step/sec: 371.099\n",
      "INFO:tensorflow:loss = 0.42968822, step = 4100 (0.269 sec)\n",
      "INFO:tensorflow:global_step/sec: 382.826\n",
      "INFO:tensorflow:loss = 0.42321786, step = 4200 (0.262 sec)\n",
      "INFO:tensorflow:global_step/sec: 439.426\n",
      "INFO:tensorflow:loss = 0.42301834, step = 4300 (0.227 sec)\n",
      "INFO:tensorflow:global_step/sec: 501.115\n",
      "INFO:tensorflow:loss = 0.41132167, step = 4400 (0.200 sec)\n",
      "INFO:tensorflow:global_step/sec: 486.543\n",
      "INFO:tensorflow:loss = 0.40696833, step = 4500 (0.206 sec)\n",
      "INFO:tensorflow:global_step/sec: 451.571\n",
      "INFO:tensorflow:loss = 0.39782354, step = 4600 (0.222 sec)\n",
      "INFO:tensorflow:global_step/sec: 496.182\n",
      "INFO:tensorflow:loss = 0.4068263, step = 4700 (0.201 sec)\n",
      "INFO:tensorflow:global_step/sec: 476.606\n",
      "INFO:tensorflow:loss = 0.40142, step = 4800 (0.211 sec)\n",
      "INFO:tensorflow:global_step/sec: 502.48\n",
      "INFO:tensorflow:loss = 0.388874, step = 4900 (0.198 sec)\n",
      "INFO:tensorflow:Calling checkpoint listeners before saving checkpoint 5000...\n",
      "INFO:tensorflow:Saving checkpoints for 5000 into /tmp/tmpkdo3cmat/model.ckpt.\n",
      "INFO:tensorflow:Calling checkpoint listeners after saving checkpoint 5000...\n",
      "INFO:tensorflow:Loss for final step: 0.3997561.\n"
     ]
    },
    {
     "data": {
      "text/plain": [
       "<tensorflow_estimator.python.estimator.canned.dnn.DNNClassifierV2 at 0x7fdf1c3f5e80>"
      ]
     },
     "execution_count": 23,
     "metadata": {},
     "output_type": "execute_result"
    }
   ],
   "source": [
    "classifier.train(input_fn=lambda: input_fn(train, train_y, training=True), steps=5000)"
   ]
  },
  {
   "cell_type": "code",
   "execution_count": 24,
   "id": "hungarian-barbados",
   "metadata": {
    "scrolled": true
   },
   "outputs": [
    {
     "name": "stdout",
     "output_type": "stream",
     "text": [
      "{'accuracy': 0.925, 'average_loss': 0.39254168, 'loss': 0.39254168, 'global_step': 5000}\n"
     ]
    }
   ],
   "source": [
    "eval_result = classifier.evaluate(input_fn=lambda: input_fn(test, test_y, training=False))\n",
    "clear_output()\n",
    "print(eval_result)"
   ]
  },
  {
   "cell_type": "markdown",
   "id": "handmade-yemen",
   "metadata": {},
   "source": [
    "def input_fn(features, batch_size=256):\n",
    "    # convert the inputs to a dataset without labels.\n",
    "    return tf.data.Dataset.from_tensor_slices(dict(features)).batch(batch_size)\n",
    "\n",
    "features = ['SepalLength','SepalWidth','PetalLength','PetalWidth']\n",
    "predict = {}\n",
    "\n",
    "print(\"Please type numeric values as prompted.\")\n",
    "for feature in features:\n",
    "    valid = True\n",
    "    while valid:\n",
    "        val = input(feature + \": \")\n",
    "        if not val.isdigit(): valid = False\n",
    "    \n",
    "    predict[feature] = [float(val)]\n",
    "    \n",
    "predictions = classifier.predict(input_fn=lambda: input_fn(predict))\n",
    "for pred_dict in predictions:\n",
    "    class_id = pred_dict['class_ids'][0]\n",
    "    probability = pred_dict['probabilities'][class_id]\n",
    "    \n",
    "    print('Prediction is \"{}\" ({:.1f}%)'.format(SPECIES[class_id], 100 * probability))"
   ]
  },
  {
   "cell_type": "code",
   "execution_count": 25,
   "id": "surface-commission",
   "metadata": {
    "scrolled": true
   },
   "outputs": [
    {
     "name": "stdout",
     "output_type": "stream",
     "text": [
      "Please type numeric values as prompted.\n",
      "SepalLength: 2.5\n",
      "SepalWidth: 1.2\n",
      "PetalLength: 4.3\n",
      "PetalWidth: 2.3\n",
      "INFO:tensorflow:Calling model_fn.\n",
      "INFO:tensorflow:Done calling model_fn.\n",
      "INFO:tensorflow:Graph was finalized.\n",
      "INFO:tensorflow:Restoring parameters from /tmp/tmpkdo3cmat/model.ckpt-5000\n",
      "INFO:tensorflow:Running local_init_op.\n",
      "INFO:tensorflow:Done running local_init_op.\n",
      "Prediction is \"Virginica\" (83.0%)\n"
     ]
    }
   ],
   "source": [
    "def input_fn(features, batch_size=256): \n",
    "    # convert the inputs to a dataset without labels. \n",
    "    return tf.data.Dataset.from_tensor_slices(dict(features)).batch(batch_size)\n",
    "\n",
    "features = ['SepalLength', 'SepalWidth', 'PetalLength', 'PetalWidth'] \n",
    "predict = {}\n",
    "\n",
    "print(\"Please type numeric values as prompted.\") \n",
    "for feature in features: \n",
    "    valid = True \n",
    "    while valid: \n",
    "        val = input(feature + \": \") \n",
    "        if not val.isdigit(): valid = False\n",
    "\n",
    "    predict[feature] = [float(val)]\n",
    "\n",
    "predictions = classifier.predict(input_fn=lambda: input_fn(predict)) \n",
    "for pred_dict in predictions: \n",
    "    class_id = pred_dict['class_ids'][0] \n",
    "    probability = pred_dict['probabilities'][class_id]\n",
    "\n",
    "    print('Prediction is \"{}\" ({:.1f}%)'.format(SPECIES[class_id], 100 * probability))"
   ]
  }
 ],
 "metadata": {
  "kernelspec": {
   "display_name": "Python 3",
   "language": "python",
   "name": "python3"
  },
  "language_info": {
   "codemirror_mode": {
    "name": "ipython",
    "version": 3
   },
   "file_extension": ".py",
   "mimetype": "text/x-python",
   "name": "python",
   "nbconvert_exporter": "python",
   "pygments_lexer": "ipython3",
   "version": "3.6.13"
  }
 },
 "nbformat": 4,
 "nbformat_minor": 5
}
